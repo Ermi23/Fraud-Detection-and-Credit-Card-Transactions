{
 "cells": [
  {
   "cell_type": "markdown",
   "metadata": {},
   "source": [
    "# Task - 2"
   ]
  },
  {
   "cell_type": "markdown",
   "metadata": {},
   "source": [
    "### 1. Load the Processed Data for Model Retraining\n",
    "We will start by loading the processed training and testing datasets from the `Data/Processed` folder. These datasets were created during the data preparation phase and are ready for model training."
   ]
  },
  {
   "cell_type": "code",
   "execution_count": 2,
   "metadata": {},
   "outputs": [
    {
     "name": "stdout",
     "output_type": "stream",
     "text": [
      "Shape of X_train_balanced: (454902, 30)\n",
      "Shape of y_train_balanced: (454902, 1)\n",
      "Shape of X_test: (56962, 30)\n",
      "Shape of y_test: (56962, 1)\n"
     ]
    }
   ],
   "source": [
    "# Import necessary libraries\n",
    "import pandas as pd\n",
    "\n",
    "# Load the processed datasets\n",
    "X_train_balanced = pd.read_csv('../Data/Processed/X_train_balanced.csv')\n",
    "y_train_balanced = pd.read_csv('../Data/Processed/y_train_balanced.csv')\n",
    "X_test = pd.read_csv('../Data/Processed/X_test.csv')\n",
    "y_test = pd.read_csv('../Data/Processed/y_test.csv')\n",
    "\n",
    "# Check the shapes of the loaded datasets\n",
    "print(\"Shape of X_train_balanced:\", X_train_balanced.shape)\n",
    "print(\"Shape of y_train_balanced:\", y_train_balanced.shape)\n",
    "print(\"Shape of X_test:\", X_test.shape)\n",
    "print(\"Shape of y_test:\", y_test.shape)\n"
   ]
  },
  {
   "cell_type": "markdown",
   "metadata": {},
   "source": [
    "### 2. Retrain the Random Forest Model\n",
    "We will retrain the **Random Forest Classifier** on the balanced training data (`X_train_balanced`, `y_train_balanced`) and evaluate it on the test set (`X_test`, `y_test`)."
   ]
  },
  {
   "cell_type": "code",
   "execution_count": 3,
   "metadata": {},
   "outputs": [
    {
     "name": "stderr",
     "output_type": "stream",
     "text": [
      "c:\\Users\\ermias.tadesse\\10x\\Fraud-Detection-and-Credit-Card-Transactions\\venv\\Lib\\site-packages\\sklearn\\base.py:1473: DataConversionWarning: A column-vector y was passed when a 1d array was expected. Please change the shape of y to (n_samples,), for example using ravel().\n",
      "  return fit_method(estimator, *args, **kwargs)\n"
     ]
    },
    {
     "name": "stdout",
     "output_type": "stream",
     "text": [
      "Random Forest Confusion Matrix:\n",
      "[[56848    16]\n",
      " [   17    81]]\n",
      "Random Forest Classification Report:\n",
      "              precision    recall  f1-score   support\n",
      "\n",
      "           0       1.00      1.00      1.00     56864\n",
      "           1       0.84      0.83      0.83        98\n",
      "\n",
      "    accuracy                           1.00     56962\n",
      "   macro avg       0.92      0.91      0.92     56962\n",
      "weighted avg       1.00      1.00      1.00     56962\n",
      "\n",
      "Random Forest ROC-AUC Score: 0.913124619572083\n"
     ]
    }
   ],
   "source": [
    "from sklearn.ensemble import RandomForestClassifier\n",
    "from sklearn.metrics import classification_report, confusion_matrix, roc_auc_score\n",
    "\n",
    "# Initialize the Random Forest model with balanced class weights\n",
    "random_forest = RandomForestClassifier(class_weight='balanced', random_state=42, n_estimators=100)\n",
    "\n",
    "# Train the model on the balanced training set\n",
    "random_forest.fit(X_train_balanced, y_train_balanced)\n",
    "\n",
    "# Make predictions on the test set\n",
    "y_pred_forest = random_forest.predict(X_test)\n",
    "\n",
    "# Evaluate the model performance\n",
    "print(\"Random Forest Confusion Matrix:\")\n",
    "print(confusion_matrix(y_test, y_pred_forest))\n",
    "print(\"Random Forest Classification Report:\")\n",
    "print(classification_report(y_test, y_pred_forest))\n",
    "print(f\"Random Forest ROC-AUC Score: {roc_auc_score(y_test, y_pred_forest)}\")"
   ]
  },
  {
   "cell_type": "markdown",
   "metadata": {},
   "source": [
    "### 3. Save the Trained Random Forest Model\n",
    "Once the model has been retrained, we will save it using the `joblib` library to the `models/` folder. This saved model can then be used later for predictions."
   ]
  },
  {
   "cell_type": "code",
   "execution_count": 4,
   "metadata": {},
   "outputs": [
    {
     "name": "stdout",
     "output_type": "stream",
     "text": [
      "Random Forest model saved successfully!\n"
     ]
    }
   ],
   "source": [
    "import joblib\n",
    "\n",
    "# Save the trained Random Forest model\n",
    "joblib.dump(random_forest, '../models/random_forest_model.pkl')\n",
    "\n",
    "print(\"Random Forest model saved successfully!\")"
   ]
  },
  {
   "cell_type": "markdown",
   "metadata": {},
   "source": [
    "### 4. Load and Test the Saved Model\n",
    "To ensure the saved model works correctly, we will load it back and test it by making a prediction on a sample input. This step will verify that the model is correctly saved and loaded."
   ]
  },
  {
   "cell_type": "code",
   "execution_count": 9,
   "metadata": {},
   "outputs": [],
   "source": [
    "# Load the saved Random Forest model\n",
    "loaded_model = joblib.load('../models/random_forest_model.pkl')"
   ]
  },
  {
   "cell_type": "markdown",
   "metadata": {},
   "source": [
    "#### 4.1. Inspect the Training Data Columns\n",
    "Let's first check the columns used in the training data (`X_train_balanced`). This will help ensure that the input data for the prediction matches the expected feature structure."
   ]
  },
  {
   "cell_type": "code",
   "execution_count": 6,
   "metadata": {},
   "outputs": [
    {
     "name": "stdout",
     "output_type": "stream",
     "text": [
      "Training Data Columns: Index(['Time', 'V1', 'V2', 'V3', 'V4', 'V5', 'V6', 'V7', 'V8', 'V9', 'V10',\n",
      "       'V11', 'V12', 'V13', 'V14', 'V15', 'V16', 'V17', 'V18', 'V19', 'V20',\n",
      "       'V21', 'V22', 'V23', 'V24', 'V25', 'V26', 'V27', 'V28', 'Amount'],\n",
      "      dtype='object')\n"
     ]
    }
   ],
   "source": [
    "# Display the columns of X_train_balanced to understand the structure\n",
    "print(\"Training Data Columns:\", X_train_balanced.columns)"
   ]
  },
  {
   "cell_type": "markdown",
   "metadata": {},
   "source": [
    "#### 4.2. Use Real Data from X_test for Prediction\n",
    "We will take a sample from the test set (`X_test`) to ensure the input data has the correct structure and number of features for making a prediction with the saved model.\n"
   ]
  },
  {
   "cell_type": "code",
   "execution_count": 7,
   "metadata": {},
   "outputs": [
    {
     "name": "stdout",
     "output_type": "stream",
     "text": [
      "Prediction (0=non-fraud, 1=fraud): 0\n"
     ]
    },
    {
     "name": "stderr",
     "output_type": "stream",
     "text": [
      "c:\\Users\\ermias.tadesse\\10x\\Fraud-Detection-and-Credit-Card-Transactions\\venv\\Lib\\site-packages\\sklearn\\base.py:493: UserWarning: X does not have valid feature names, but RandomForestClassifier was fitted with feature names\n",
      "  warnings.warn(\n"
     ]
    }
   ],
   "source": [
    "# Take a sample input from the test data\n",
    "sample_input = X_test.iloc[0].values.reshape(1, -1)  # Take the first row from X_test\n",
    "\n",
    "# Make a prediction using the loaded Random Forest model\n",
    "prediction = loaded_model.predict(sample_input)\n",
    "print(f\"Prediction (0=non-fraud, 1=fraud): {prediction[0]}\")"
   ]
  },
  {
   "cell_type": "markdown",
   "metadata": {},
   "source": [
    "#### 4.3. Provide Manually Constructed Input Data for Prediction\n",
    "We will manually construct an input data array that matches the structure and number of features in the training data.\n"
   ]
  },
  {
   "cell_type": "code",
   "execution_count": 8,
   "metadata": {},
   "outputs": [
    {
     "name": "stdout",
     "output_type": "stream",
     "text": [
      "Prediction (0=non-fraud, 1=fraud): 0\n"
     ]
    }
   ],
   "source": [
    "# Construct a sample input with the correct number of features (30 in this case)\n",
    "# Replace these values with actual or realistic values for all features\n",
    "sample_input = [0.5, -0.3, 0.8, 1.2, -0.1, 0.6, -0.7, 1.1, 0.9, 0.4, -0.2, 1.3, 0.7, -0.6, 0.3, 0.5, -1.2, 0.8, 0.2, -0.9, 1.0, 0.4, 0.9, 0.1, -0.3, 1.1, 0.2, 0.7, -0.5, 0.6]\n",
    "sample_input = pd.DataFrame([sample_input], columns=X_train_balanced.columns)\n",
    "\n",
    "# Make a prediction using the loaded Random Forest model\n",
    "prediction = loaded_model.predict(sample_input)\n",
    "print(f\"Prediction (0=non-fraud, 1=fraud): {prediction[0]}\")\n"
   ]
  },
  {
   "cell_type": "markdown",
   "metadata": {},
   "source": [
    "## Conclusion\n",
    "\n",
    "\n",
    "The output Prediction (0=non-fraud, 1=fraud): 0 means that the Random Forest model has predicted the transaction represented by the manually constructed input as non-fraudulent.\n",
    "\n",
    "Here’s a breakdown of what it signifies:\n",
    "\n",
    "Prediction = 0: The model predicts that the transaction is not fraudulent. In other words, based on the 30 feature values you provided, the model has determined that the transaction is likely to be a legitimate one.\n",
    "Had the prediction been 1, it would have meant the model identified the transaction as fraudulent.\n",
    "\n",
    "##### Why Does This Matter?\n",
    "\n",
    "This prediction is based on the model's understanding of patterns in the data. It analyzed the input data (values for 30 features like purchase amount, time, customer profile, etc.) and determined that it doesn’t match the characteristics of a fraudulent transaction.\n",
    "If you were using this model in a real-world setting, a prediction of 0 would imply that no further investigation or action is needed for this particular transaction."
   ]
  }
 ],
 "metadata": {
  "kernelspec": {
   "display_name": "venv",
   "language": "python",
   "name": "python3"
  },
  "language_info": {
   "codemirror_mode": {
    "name": "ipython",
    "version": 3
   },
   "file_extension": ".py",
   "mimetype": "text/x-python",
   "name": "python",
   "nbconvert_exporter": "python",
   "pygments_lexer": "ipython3",
   "version": "3.12.0"
  }
 },
 "nbformat": 4,
 "nbformat_minor": 2
}
